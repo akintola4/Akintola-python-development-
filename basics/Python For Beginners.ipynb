{
 "cells": [
  {
   "cell_type": "code",
   "execution_count": 132,
   "id": "a89bf4ad",
   "metadata": {},
   "outputs": [
    {
     "name": "stdout",
     "output_type": "stream",
     "text": [
      "Hello World!\n"
     ]
    }
   ],
   "source": [
    "# Print statement in python\n",
    "\n",
    "print(\"Hello World!\")"
   ]
  },
  {
   "cell_type": "code",
   "execution_count": 133,
   "id": "553a18cc",
   "metadata": {},
   "outputs": [
    {
     "data": {
      "application/json": {
       "cell": {
        "!": "OSMagics",
        "HTML": "Other",
        "SVG": "Other",
        "bash": "Other",
        "capture": "ExecutionMagics",
        "debug": "ExecutionMagics",
        "file": "Other",
        "html": "DisplayMagics",
        "javascript": "DisplayMagics",
        "js": "DisplayMagics",
        "latex": "DisplayMagics",
        "markdown": "DisplayMagics",
        "perl": "Other",
        "prun": "ExecutionMagics",
        "pypy": "Other",
        "python": "Other",
        "python2": "Other",
        "python3": "Other",
        "ruby": "Other",
        "script": "ScriptMagics",
        "sh": "Other",
        "svg": "DisplayMagics",
        "sx": "OSMagics",
        "system": "OSMagics",
        "time": "ExecutionMagics",
        "timeit": "ExecutionMagics",
        "writefile": "OSMagics"
       },
       "line": {
        "alias": "OSMagics",
        "alias_magic": "BasicMagics",
        "autoawait": "AsyncMagics",
        "autocall": "AutoMagics",
        "automagic": "AutoMagics",
        "autosave": "KernelMagics",
        "bookmark": "OSMagics",
        "cat": "Other",
        "cd": "OSMagics",
        "clear": "KernelMagics",
        "colors": "BasicMagics",
        "conda": "PackagingMagics",
        "config": "ConfigMagics",
        "connect_info": "KernelMagics",
        "cp": "Other",
        "debug": "ExecutionMagics",
        "dhist": "OSMagics",
        "dirs": "OSMagics",
        "doctest_mode": "BasicMagics",
        "ed": "Other",
        "edit": "KernelMagics",
        "env": "OSMagics",
        "gui": "BasicMagics",
        "hist": "Other",
        "history": "HistoryMagics",
        "killbgscripts": "ScriptMagics",
        "ldir": "Other",
        "less": "KernelMagics",
        "lf": "Other",
        "lk": "Other",
        "ll": "Other",
        "load": "CodeMagics",
        "load_ext": "ExtensionMagics",
        "loadpy": "CodeMagics",
        "logoff": "LoggingMagics",
        "logon": "LoggingMagics",
        "logstart": "LoggingMagics",
        "logstate": "LoggingMagics",
        "logstop": "LoggingMagics",
        "ls": "Other",
        "lsmagic": "BasicMagics",
        "lx": "Other",
        "macro": "ExecutionMagics",
        "magic": "BasicMagics",
        "man": "KernelMagics",
        "matplotlib": "PylabMagics",
        "mkdir": "Other",
        "more": "KernelMagics",
        "mv": "Other",
        "notebook": "BasicMagics",
        "page": "BasicMagics",
        "pastebin": "CodeMagics",
        "pdb": "ExecutionMagics",
        "pdef": "NamespaceMagics",
        "pdoc": "NamespaceMagics",
        "pfile": "NamespaceMagics",
        "pinfo": "NamespaceMagics",
        "pinfo2": "NamespaceMagics",
        "pip": "PackagingMagics",
        "popd": "OSMagics",
        "pprint": "BasicMagics",
        "precision": "BasicMagics",
        "prun": "ExecutionMagics",
        "psearch": "NamespaceMagics",
        "psource": "NamespaceMagics",
        "pushd": "OSMagics",
        "pwd": "OSMagics",
        "pycat": "OSMagics",
        "pylab": "PylabMagics",
        "qtconsole": "KernelMagics",
        "quickref": "BasicMagics",
        "recall": "HistoryMagics",
        "rehashx": "OSMagics",
        "reload_ext": "ExtensionMagics",
        "rep": "Other",
        "rerun": "HistoryMagics",
        "reset": "NamespaceMagics",
        "reset_selective": "NamespaceMagics",
        "rm": "Other",
        "rmdir": "Other",
        "run": "ExecutionMagics",
        "save": "CodeMagics",
        "sc": "OSMagics",
        "set_env": "OSMagics",
        "store": "StoreMagics",
        "sx": "OSMagics",
        "system": "OSMagics",
        "tb": "ExecutionMagics",
        "time": "ExecutionMagics",
        "timeit": "ExecutionMagics",
        "unalias": "OSMagics",
        "unload_ext": "ExtensionMagics",
        "who": "NamespaceMagics",
        "who_ls": "NamespaceMagics",
        "whos": "NamespaceMagics",
        "xdel": "NamespaceMagics",
        "xmode": "BasicMagics"
       }
      },
      "text/plain": [
       "Available line magics:\n",
       "%alias  %alias_magic  %autoawait  %autocall  %automagic  %autosave  %bookmark  %cat  %cd  %clear  %colors  %conda  %config  %connect_info  %cp  %debug  %dhist  %dirs  %doctest_mode  %ed  %edit  %env  %gui  %hist  %history  %killbgscripts  %ldir  %less  %lf  %lk  %ll  %load  %load_ext  %loadpy  %logoff  %logon  %logstart  %logstate  %logstop  %ls  %lsmagic  %lx  %macro  %magic  %man  %matplotlib  %mkdir  %more  %mv  %notebook  %page  %pastebin  %pdb  %pdef  %pdoc  %pfile  %pinfo  %pinfo2  %pip  %popd  %pprint  %precision  %prun  %psearch  %psource  %pushd  %pwd  %pycat  %pylab  %qtconsole  %quickref  %recall  %rehashx  %reload_ext  %rep  %rerun  %reset  %reset_selective  %rm  %rmdir  %run  %save  %sc  %set_env  %store  %sx  %system  %tb  %time  %timeit  %unalias  %unload_ext  %who  %who_ls  %whos  %xdel  %xmode\n",
       "\n",
       "Available cell magics:\n",
       "%%!  %%HTML  %%SVG  %%bash  %%capture  %%debug  %%file  %%html  %%javascript  %%js  %%latex  %%markdown  %%perl  %%prun  %%pypy  %%python  %%python2  %%python3  %%ruby  %%script  %%sh  %%svg  %%sx  %%system  %%time  %%timeit  %%writefile\n",
       "\n",
       "Automagic is ON, % prefix IS NOT needed for line magics."
      ]
     },
     "execution_count": 133,
     "metadata": {},
     "output_type": "execute_result"
    }
   ],
   "source": [
    "#magics in Notebook\n",
    "\n",
    "%lsmagic"
   ]
  },
  {
   "cell_type": "code",
   "execution_count": 134,
   "id": "33cc2dc1",
   "metadata": {},
   "outputs": [
    {
     "name": "stdout",
     "output_type": "stream",
     "text": [
      "12\n",
      "david\n"
     ]
    }
   ],
   "source": [
    "# initializing Variables\n",
    "age = 12 # age is the variable while 12 is the value assigned to it\n",
    "print(age)\n",
    "\n",
    "name = \"david\" # name is the variable while david is the value assigned to it\n",
    "print(name)"
   ]
  },
  {
   "cell_type": "code",
   "execution_count": 135,
   "id": "b9eed309",
   "metadata": {},
   "outputs": [
    {
     "name": "stdout",
     "output_type": "stream",
     "text": [
      "5\n",
      "1\n",
      "1.5\n",
      "6\n",
      "1\n"
     ]
    }
   ],
   "source": [
    "# Mathematical operators\n",
    "\n",
    "number1 = 2\n",
    "number2 = 3\n",
    "\n",
    "addition = number1 + number2\n",
    "subtraction = number2 - number1\n",
    "division = number2 / number1\n",
    "multiplication = number1 * number2\n",
    "remainder = number2 % number1\n",
    "\n",
    "print(addition)\n",
    "print(subtraction)\n",
    "print(division)\n",
    "print(multiplication)\n",
    "print(remainder)"
   ]
  },
  {
   "cell_type": "code",
   "execution_count": 136,
   "id": "fa9755c7",
   "metadata": {},
   "outputs": [
    {
     "name": "stdout",
     "output_type": "stream",
     "text": [
      "Jeff Bezos\n"
     ]
    }
   ],
   "source": [
    "# Strings in Python\n",
    "firstName = \"Jeff\"\n",
    "lastName = \"Bezos\"\n",
    "fullName = firstName + \" \" +lastName\n",
    "print(fullName)\n"
   ]
  },
  {
   "cell_type": "code",
   "execution_count": 137,
   "id": "4f0cbcc8",
   "metadata": {},
   "outputs": [
    {
     "name": "stdout",
     "output_type": "stream",
     "text": [
      "This is a sentence and rubbish\n",
      "aksdjfaksjdfasdfasdf fadsfadsfad, \n"
     ]
    }
   ],
   "source": [
    "# Demonstrating string indexing and splicing in python\n",
    "\n",
    "sentence = \"This is a sentence and rubbish aksdjfaksjdfasdfasdf fadsfadsfad, pick it out!!\"\n",
    "spliced_sentence = sentence[0:30]\n",
    "spliced_gibberish = sentence[31:65]\n",
    "print(spliced_sentence)\n",
    "print(spliced_gibberish)\n"
   ]
  },
  {
   "cell_type": "code",
   "execution_count": 138,
   "id": "1011171e",
   "metadata": {},
   "outputs": [
    {
     "name": "stdout",
     "output_type": "stream",
     "text": [
      "['eggs', 'carrots', 'milk', 'cherries']\n",
      "milk\n",
      "eggs\n"
     ]
    }
   ],
   "source": [
    "# Lists in python\n",
    "\n",
    "shopingList = [\"eggs\", \"carrots\", \"milk\", \"cherries\"]\n",
    "\n",
    "print(shopingList)\n",
    "print(shopingList[2])\n",
    "print(shopingList[0])\n"
   ]
  },
  {
   "cell_type": "code",
   "execution_count": 139,
   "id": "98780da3",
   "metadata": {},
   "outputs": [
    {
     "name": "stdout",
     "output_type": "stream",
     "text": [
      "['eggs', 'carrots', 'milk', 'cherries']\n",
      " \n",
      " sport the difference between both shoping list\n",
      " \n",
      "['eggs', 'carrots', 'beans', 'cherries']\n"
     ]
    }
   ],
   "source": [
    "# Lists continue\n",
    "\n",
    "print(shopingList)\n",
    "shopingList[2] = \"beans\"\n",
    "print(\" \")\n",
    "print(\" sport the difference between both shoping list\")\n",
    "print(\" \")\n",
    "print(shopingList)"
   ]
  },
  {
   "cell_type": "code",
   "execution_count": 140,
   "id": "a127abd2",
   "metadata": {},
   "outputs": [
    {
     "name": "stdout",
     "output_type": "stream",
     "text": [
      "['eggs', 'carrots', 'cherries']\n",
      "3\n"
     ]
    }
   ],
   "source": [
    "# List continue\n",
    "del shopingList[2]\n",
    "print(shopingList)\n",
    "print(len(shopingList))"
   ]
  },
  {
   "cell_type": "code",
   "execution_count": 141,
   "id": "204792ae",
   "metadata": {},
   "outputs": [
    {
     "name": "stdout",
     "output_type": "stream",
     "text": [
      "{'eric': 14, 'david': 23, 'bob': 32, 'tina': 23}\n",
      "14\n",
      "{'eric': 14, 'david': 23, 'bob': 2, 'tina': 23}\n"
     ]
    }
   ],
   "source": [
    "# Python Dictinaries\n",
    "\n",
    "students = {\"eric\":14, \"david\":23, \"bob\":32, \"tina\":23} # The key is the name and the value is the age Note!! It is case sensitive\n",
    "print(students)\n",
    "print(students[\"eric\"])\n",
    "students[\"bob\"] = 2\n",
    "print(students)"
   ]
  },
  {
   "cell_type": "code",
   "execution_count": 142,
   "id": "74dc6e07",
   "metadata": {},
   "outputs": [
    {
     "name": "stdout",
     "output_type": "stream",
     "text": [
      "{'eric': 14, 'david': 23, 'bob': 2, 'tina': 23}\n",
      "{'dic': 62, 'mathew': 83, 'paul': 23}\n",
      "4\n",
      "3\n",
      "dict_keys(['eric', 'david', 'bob', 'tina'])\n",
      "dict_values([14, 23, 2, 23])\n"
     ]
    }
   ],
   "source": [
    "# Functions in python Dictionaries\n",
    "\n",
    "students2 = {\"dic\": 62, \"mathew\": 83, \"paul\":23}\n",
    "\n",
    "print(students)\n",
    "print(students2)\n",
    "print(len(students))\n",
    "print(len(students2))\n",
    "print(students.keys())\n",
    "print(students.values())\n"
   ]
  },
  {
   "cell_type": "code",
   "execution_count": 143,
   "id": "725fd2de",
   "metadata": {},
   "outputs": [
    {
     "name": "stdout",
     "output_type": "stream",
     "text": [
      " number is greater than 1 \n",
      " An Adult \n"
     ]
    }
   ],
   "source": [
    "# conditional statements ( IF ELSE STATEMENTS)\n",
    "age = 18\n",
    "a = 2\n",
    "\n",
    "if a > 1:\n",
    "    print(\" number is greater than 1 \")\n",
    "    \n",
    "# The statement above test a single condtion of if    \n",
    "    \n",
    "if age > 17:\n",
    "    print(\" An Adult \")\n",
    "else:\n",
    "    print(\" Not yet Adult\")\n",
    "\n",
    "# The statement above test a single condtion of if  and else STATEMENT  "
   ]
  },
  {
   "cell_type": "code",
   "execution_count": 144,
   "id": "b8e9714c",
   "metadata": {},
   "outputs": [
    {
     "name": "stdout",
     "output_type": "stream",
     "text": [
      "True\n",
      "False\n",
      "True\n",
      "True\n",
      "True\n",
      "False\n"
     ]
    }
   ],
   "source": [
    "# RELATIONAL OPERATORS\n",
    "print(6>3)\n",
    "print(2>100)\n",
    "print(3==3)\n",
    "print(10>9.4)\n",
    "print(4!=6)\n",
    "print(2 > 10)"
   ]
  },
  {
   "cell_type": "code",
   "execution_count": 145,
   "id": "564d0e02",
   "metadata": {},
   "outputs": [
    {
     "name": "stdout",
     "output_type": "stream",
     "text": [
      " you are good to go \n"
     ]
    }
   ],
   "source": [
    "# Nested if statement \n",
    "age = 18\n",
    "name = \"bob\"\n",
    "\n",
    "if age > 17:\n",
    "    if name == \"bob\":\n",
    "        print(\" you are good to go \")\n",
    "    else:\n",
    "        print(\" Youre hooked\")"
   ]
  },
  {
   "cell_type": "code",
   "execution_count": 146,
   "id": "501b6c79",
   "metadata": {},
   "outputs": [
    {
     "name": "stdout",
     "output_type": "stream",
     "text": [
      " 2 \n"
     ]
    }
   ],
   "source": [
    "#  multiple if else statements\n",
    "day = \"monday\"\n",
    "\n",
    "if day == \"sunday\":\n",
    "    print(\" 1 \")\n",
    "elif day == \"monday\":\n",
    "    print(\" 2 \")\n",
    "elif day == \"tuesday\":\n",
    "    print( \"3 \")\n",
    "else:\n",
    "    print(\" no day allocated \")"
   ]
  },
  {
   "cell_type": "code",
   "execution_count": 147,
   "id": "0dfae5d9",
   "metadata": {},
   "outputs": [
    {
     "name": "stdout",
     "output_type": "stream",
     "text": [
      "0\n",
      "1\n",
      "2\n",
      "3\n",
      "4\n",
      " \n",
      "milk\n",
      "orange\n",
      "cups\n",
      " \n",
      "0\n",
      "2\n",
      "4\n",
      "6\n",
      "8\n",
      "10\n",
      "12\n",
      "14\n",
      "16\n",
      "18\n",
      "20\n",
      "22\n",
      "24\n",
      "26\n",
      "28\n",
      "30\n",
      "32\n",
      "34\n",
      "36\n",
      "38\n",
      "40\n"
     ]
    }
   ],
   "source": [
    "# Loops statements in python (ITERATIVE STATEMENTS )\n",
    "# FOR LOOPS IN PYTHON\n",
    "for a in range(0,5):\n",
    "    print(a)\n",
    "\n",
    "print(\" \")\n",
    "\n",
    "shoping_list = [\"milk\", \"orange\", \"cups\"]\n",
    "\n",
    "for i in shoping_list:\n",
    "    print(i)\n",
    "\n",
    "print(\" \")\n",
    "# Program to print even numbers from 0 - 40:\n",
    "for i in range (0,41,2):\n",
    "    print(i)"
   ]
  },
  {
   "cell_type": "code",
   "execution_count": 148,
   "id": "a7a9fbd4",
   "metadata": {},
   "outputs": [
    {
     "name": "stdout",
     "output_type": "stream",
     "text": [
      "4\n",
      "5\n",
      "6\n",
      "7\n",
      "8\n",
      "9\n"
     ]
    }
   ],
   "source": [
    "# Loops statements in python (ITERATIVE STATEMENTS) Continue\n",
    "# WHILE LOOP\n",
    "\n",
    "counter = 4\n",
    "while counter < 10:\n",
    "    print(counter)\n",
    "    counter += 1\n",
    "    "
   ]
  },
  {
   "cell_type": "code",
   "execution_count": 149,
   "id": "f9d63a22",
   "metadata": {},
   "outputs": [
    {
     "name": "stdout",
     "output_type": "stream",
     "text": [
      "0\n",
      "1\n",
      "2\n",
      "0\n",
      "1\n",
      "2\n",
      "0\n",
      "1\n",
      "2\n",
      " \n",
      " \n",
      "This prints Odd numbers from 1 to 10\n",
      " \n",
      "1\n",
      "3\n",
      "5\n",
      "7\n",
      "9\n",
      " \n",
      "This prints Even numbers from 1 to 10\n",
      " \n",
      "0\n",
      "2\n",
      "4\n",
      "6\n",
      "8\n",
      "10\n",
      " \n",
      "This prints prime numbers from 1 to 20\n",
      " \n",
      "2 is a prime number\n",
      "3 is a prime number\n",
      "5 is a prime number\n",
      "7 is a prime number\n",
      "11 is a prime number\n",
      "13 is a prime number\n",
      "17 is a prime number\n",
      "19 is a prime number\n",
      "23 is a prime number\n",
      "29 is a prime number\n"
     ]
    }
   ],
   "source": [
    "# Loops statements in python (ITERATIVE STATEMENTS) Continue\n",
    "# NESTED LOOPS\n",
    "\n",
    "for i in range(0,3):\n",
    "    for a in range(0,3):\n",
    "        print(a)\n",
    "    \n",
    "print(\" \")\n",
    "print(\" \")\n",
    "        \n",
    "# Odd numbers generator\n",
    "print(\"This prints Odd numbers from 1 to 10\")\n",
    "print(\" \")\n",
    "for i in range(0, 11):\n",
    "    if i % 2 == 1:\n",
    "        print(i)\n",
    "    else:\n",
    "        pass\n",
    "    \n",
    "\n",
    "print(\" \")     \n",
    "# Odd numbers generator\n",
    "print(\"This prints Even numbers from 1 to 10\")\n",
    "print(\" \")\n",
    "for i in range(0, 11):\n",
    "    if i % 2 == 0:\n",
    "        print(i)\n",
    "    else:\n",
    "        pass\n",
    "\n",
    "\n",
    "print(\" \")\n",
    "# Prime numbers generator\n",
    "print(\"This prints prime numbers from 1 to 20\")\n",
    "print(\" \")\n",
    "for i in range(2, 31):\n",
    "    j = 2\n",
    "    counter = 0\n",
    "    \n",
    "    while j < i:\n",
    "        if i % j == 0:\n",
    "            counter = 1\n",
    "            j += 1\n",
    "        else:\n",
    "            j += 1\n",
    "\n",
    "    if counter == 0:\n",
    "        print(str(i) + \" is a prime number\")\n",
    "        \n",
    "    else:\n",
    "        counter = 0\n",
    "            "
   ]
  },
  {
   "cell_type": "code",
   "execution_count": 151,
   "id": "595ea1a2",
   "metadata": {},
   "outputs": [
    {
     "name": "stdout",
     "output_type": "stream",
     "text": [
      " Enter Number: 324\n",
      " Number is Positive \n"
     ]
    }
   ],
   "source": [
    "# Input Statement in python\n",
    "# A program that accept user's input and test if its negative or positive\n",
    "\n",
    "a = int(input(\" Enter Number: \"))\n",
    "if a < 0:\n",
    "    print(\" Number is Negative \")\n",
    "elif a > 0:\n",
    "    print(\" Number is Positive \")\n",
    "else:\n",
    "    print( \" Number is \" + str(a))"
   ]
  },
  {
   "cell_type": "code",
   "execution_count": 157,
   "id": "3e24f8a1",
   "metadata": {},
   "outputs": [
    {
     "name": "stdout",
     "output_type": "stream",
     "text": [
      " Enter your age: 98\n",
      " Enter your country: hd\n",
      " You are not eligible to vote \n"
     ]
    }
   ],
   "source": [
    "# Voters Eligibility\n",
    "\n",
    "age = 18\n",
    "nationality = \"Nigeria\"\n",
    "\n",
    "user_age = int(input(\" Enter your age: \"))\n",
    "user_country = input(\" Enter your country: \")\n",
    "\n",
    "if(user_age >= age and user_country == nationality):\n",
    "    print(\" You are eligible to vote \")\n",
    "else:\n",
    "    print(\" You are not eligible to vote \")"
   ]
  },
  {
   "cell_type": "code",
   "execution_count": 161,
   "id": "3586505f",
   "metadata": {},
   "outputs": [
    {
     "name": "stdout",
     "output_type": "stream",
     "text": [
      " enter number: 32\n",
      " The number is even\n"
     ]
    }
   ],
   "source": [
    "# Test for even number and odd number\n",
    "\n",
    "a = int(input(\" enter number: \"))\n",
    "if a % 2 == 0:\n",
    "    print(\" The number is even\")\n",
    "    \n",
    "elif a % 2 == 1:\n",
    "    print(\" The number is odd \")\n",
    "    "
   ]
  },
  {
   "cell_type": "code",
   "execution_count": 164,
   "id": "3798d902",
   "metadata": {},
   "outputs": [
    {
     "name": "stdout",
     "output_type": "stream",
     "text": [
      "55\n"
     ]
    }
   ],
   "source": [
    "# addition of first 10 numbers\n",
    "\n",
    "sum = 0\n",
    "for i in range (0,11):\n",
    "    sum += i\n",
    "print(sum)"
   ]
  },
  {
   "cell_type": "code",
   "execution_count": 167,
   "id": "3de83f53",
   "metadata": {},
   "outputs": [
    {
     "name": "stdout",
     "output_type": "stream",
     "text": [
      "6\n",
      "10\n"
     ]
    }
   ],
   "source": [
    "# functions in python\n",
    "def Area(l,b):\n",
    "    area = l*b\n",
    "    return area\n",
    "\n",
    "def Perimeter(l,b):\n",
    "    perimeter = 2 * (l + b)\n",
    "    return perimeter\n",
    "\n",
    "print(Area(2,3))\n",
    "print(Perimeter(2,3))"
   ]
  },
  {
   "cell_type": "code",
   "execution_count": 177,
   "id": "411545df",
   "metadata": {},
   "outputs": [
    {
     "name": "stdout",
     "output_type": "stream",
     "text": [
      " Enter name: 32\n",
      "32\n",
      " Enter School name 34\n",
      "34\n",
      "(None, None)\n"
     ]
    }
   ],
   "source": [
    "# Functions Continued\n",
    "def myName():\n",
    "    b = input(\" Enter name: \")\n",
    "    print(b)\n",
    "    \n",
    "def mySchool():\n",
    "    sc = input(\" Enter School name \")\n",
    "    print(sc)\n",
    "    \n",
    "\n",
    "def callFunctionsOne_and_Two():\n",
    "    return myName(),mySchool()\n",
    "    \n",
    "    \n",
    "print(callFunctionsOne_and_Two())"
   ]
  },
  {
   "cell_type": "code",
   "execution_count": 1,
   "id": "fcf06e81",
   "metadata": {},
   "outputs": [
    {
     "name": "stdout",
     "output_type": "stream",
     "text": [
      "Hello World\n"
     ]
    }
   ],
   "source": [
    "print('Hello World')"
   ]
  },
  {
   "cell_type": "code",
   "execution_count": 2,
   "id": "4f78b19b",
   "metadata": {},
   "outputs": [
    {
     "data": {
      "text/plain": [
       "2"
      ]
     },
     "execution_count": 2,
     "metadata": {},
     "output_type": "execute_result"
    }
   ],
   "source": [
    "1+1"
   ]
  }
 ],
 "metadata": {
  "kernelspec": {
   "display_name": "Python 3",
   "language": "python",
   "name": "python3"
  },
  "language_info": {
   "codemirror_mode": {
    "name": "ipython",
    "version": 3
   },
   "file_extension": ".py",
   "mimetype": "text/x-python",
   "name": "python",
   "nbconvert_exporter": "python",
   "pygments_lexer": "ipython3",
   "version": "3.6.9"
  }
 },
 "nbformat": 4,
 "nbformat_minor": 5
}
